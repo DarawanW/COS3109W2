{
  "nbformat": 4,
  "nbformat_minor": 0,
  "metadata": {
    "colab": {
      "provenance": [],
      "gpuType": "T4",
      "toc_visible": true,
      "authorship_tag": "ABX9TyNXwsChE1TZg8Uezfcyg/fH",
      "include_colab_link": true
    },
    "kernelspec": {
      "name": "python3",
      "display_name": "Python 3"
    },
    "language_info": {
      "name": "python"
    },
    "accelerator": "GPU"
  },
  "cells": [
    {
      "cell_type": "markdown",
      "metadata": {
        "id": "view-in-github",
        "colab_type": "text"
      },
      "source": [
        "<a href=\"https://colab.research.google.com/github/DarawanW/COS3109W2/blob/main/COS3109Lab2.ipynb\" target=\"_parent\"><img src=\"https://colab.research.google.com/assets/colab-badge.svg\" alt=\"Open In Colab\"/></a>"
      ]
    },
    {
      "cell_type": "markdown",
      "source": [
        "# Hello world"
      ],
      "metadata": {
        "id": "nyEVPZQxYBmn"
      }
    },
    {
      "cell_type": "code",
      "execution_count": 24,
      "metadata": {
        "colab": {
          "base_uri": "https://localhost:8080/"
        },
        "id": "AqICKwa5HsS2",
        "outputId": "07c0d582-c793-43af-f0b8-67dd69a48650"
      },
      "outputs": [
        {
          "output_type": "stream",
          "name": "stdout",
          "text": [
            "Hello World\n"
          ]
        }
      ],
      "source": [
        "# Never mind this statement, for compatibility reasons\n",
        "from __future__ import absolute_import, division, print_function, unicode_literals\n",
        "\n",
        "print(\"Hello World\")"
      ]
    },
    {
      "cell_type": "markdown",
      "source": [
        "# 2. Function, Conditionals, and Iteration"
      ],
      "metadata": {
        "id": "AJmf7r-NYJH1"
      }
    },
    {
      "cell_type": "code",
      "source": [
        "def HelloWorldXY(x, y):\n",
        "  if (x < 10):\n",
        "    print(\"Hello World, x was < 10\")\n",
        "  elif (x < 20):\n",
        "    print(\"Hello World, x was >= 10 but < 20\")\n",
        "  else:\n",
        "    print(\"Hello World, x was >= 20\")\n",
        "  return x + y\n",
        "for i in range(8, 25, 5): # i=8, 13, 18, 23 (start, stop, step)\n",
        "  print(\"--- Now running with i: {}\".format(i))\n",
        "  r = HelloWorldXY(i,i)\n",
        "  print(\"Result from HelloWorld: {}\".format(r))"
      ],
      "metadata": {
        "colab": {
          "base_uri": "https://localhost:8080/"
        },
        "id": "6vYSj5OtIjdo",
        "outputId": "4bbfe584-fc6d-4583-8bd2-0e3496a2493e"
      },
      "execution_count": 2,
      "outputs": [
        {
          "output_type": "stream",
          "name": "stdout",
          "text": [
            "--- Now running with i: 8\n",
            "Hello World, x was < 10\n",
            "Result from HelloWorld: 16\n",
            "--- Now running with i: 13\n",
            "Hello World, x was >= 10 but < 20\n",
            "Result from HelloWorld: 26\n",
            "--- Now running with i: 18\n",
            "Hello World, x was >= 10 but < 20\n",
            "Result from HelloWorld: 36\n",
            "--- Now running with i: 23\n",
            "Hello World, x was >= 20\n",
            "Result from HelloWorld: 46\n"
          ]
        }
      ]
    },
    {
      "cell_type": "code",
      "source": [
        "print(HelloWorldXY(1,2))"
      ],
      "metadata": {
        "colab": {
          "base_uri": "https://localhost:8080/"
        },
        "id": "ZyMtUljNItSy",
        "outputId": "946832d1-6d1e-4105-a009-9a1c8ac1c927"
      },
      "execution_count": 3,
      "outputs": [
        {
          "output_type": "stream",
          "name": "stdout",
          "text": [
            "Hello World, x was < 10\n",
            "3\n"
          ]
        }
      ]
    },
    {
      "cell_type": "markdown",
      "source": [
        "# 3. Various kinds of loops starting at 0 to 2"
      ],
      "metadata": {
        "id": "qsSOG8GKYSuq"
      }
    },
    {
      "cell_type": "code",
      "source": [
        "print(\"Iterate over the items. `range(2)` is like a list [0,1].\")\n",
        "for i in range(2):\n",
        "  print(i)\n",
        "print(\"Iterate over an actual list.\")\n",
        "for i in [0,1]:\n",
        "  print(i)\n",
        "print(\"While works\")\n",
        "i = 0\n",
        "while i < 2:\n",
        "  print(i)\n",
        "  i += 1"
      ],
      "metadata": {
        "colab": {
          "base_uri": "https://localhost:8080/"
        },
        "id": "iHFqOiDpJYhh",
        "outputId": "34784486-bb1e-4221-d2e7-e57823e1c55d"
      },
      "execution_count": null,
      "outputs": [
        {
          "output_type": "stream",
          "name": "stdout",
          "text": [
            "Iterate over the items. `range(2)` is like a list [0,1].\n",
            "0\n",
            "1\n",
            "Iterate over an actual list.\n",
            "0\n",
            "1\n",
            "While works\n",
            "0\n",
            "1\n"
          ]
        }
      ]
    },
    {
      "cell_type": "markdown",
      "source": [
        "# 4. Numpy and lists\n",
        "Numpy as np is the fundamental package for scientific computing with Python.\n",
        "\n",
        "Lists (Array) are data structure in Python that is a mutable, or changeable, ordered sequence of elements. Each\n",
        "element or value that is inside of a list is called an item. Just as strings are defined as characters between quotes,\n",
        "lists are defined by having values between square brackets [ ]."
      ],
      "metadata": {
        "id": "R3zeP8eGYyQm"
      }
    },
    {
      "cell_type": "code",
      "source": [
        "sea_creatures = ['shark', 'cuttlefish', 'squid', 'mantis shrimp', 'anemone']"
      ],
      "metadata": {
        "id": "WYRSGGPjd9M0"
      },
      "execution_count": 25,
      "outputs": []
    },
    {
      "cell_type": "code",
      "source": [
        "sea_creatures[0] = 'shark'\n",
        "sea_creatures[2] = 'squid'\n",
        "sea_creatures[4] = 'anemone'"
      ],
      "metadata": {
        "id": "HRamxAYgeCUc"
      },
      "execution_count": 26,
      "outputs": []
    },
    {
      "cell_type": "code",
      "source": [
        "import numpy as np # Make numpy available using np.\n",
        "# Create a numpy array, and append an element\n",
        "a = np.array([\"Hello\", \"World\"])\n",
        "a = np.append(a, \"!\")\n",
        "print(\"Current array: {}\".format(a))\n",
        "print(\"Printing each element\")\n",
        "for i in a:\n",
        "  print(i)\n",
        "print(\"\\nPrinting each element and their index\")\n",
        "for i,e in enumerate(a):\n",
        "  print(\"Index: {}, was: {}\".format(i, e))"
      ],
      "metadata": {
        "colab": {
          "base_uri": "https://localhost:8080/"
        },
        "id": "4pd1_44XK3B4",
        "outputId": "e7c10b13-a0c2-4c23-cc2d-583a85e8f140"
      },
      "execution_count": 27,
      "outputs": [
        {
          "output_type": "stream",
          "name": "stdout",
          "text": [
            "Current array: ['Hello' 'World' '!']\n",
            "Printing each element\n",
            "Hello\n",
            "World\n",
            "!\n",
            "\n",
            "Printing each element and their index\n",
            "Index: 0, was: Hello\n",
            "Index: 1, was: World\n",
            "Index: 2, was: !\n"
          ]
        }
      ]
    },
    {
      "cell_type": "code",
      "source": [
        "print(\"\\nShowing some basic math on arrays\")\n",
        "b = np.array([0,1,4,3,2])\n",
        "print(\"Max: {}\".format (np.max(b)))\n",
        "print(\"Average: {}\".format(np.average(b)))\n",
        "print(\"Max index: {}\".format(np.argmax(b)))"
      ],
      "metadata": {
        "colab": {
          "base_uri": "https://localhost:8080/"
        },
        "id": "QDAn6jd7N4Oj",
        "outputId": "c9a2cff0-ac0a-41a5-9873-e18b0c2ef959"
      },
      "execution_count": null,
      "outputs": [
        {
          "output_type": "stream",
          "name": "stdout",
          "text": [
            "\n",
            "Showing some basic math on arrays\n",
            "Max: 4\n",
            "Average: 2.0\n",
            "Max index: 2\n"
          ]
        }
      ]
    },
    {
      "cell_type": "code",
      "source": [
        "print(\"\\nYou can print the type of anything\")\n",
        "print(\"Type of b: {}, type of b[0]: {}\".format(type(b), type(b[0])))"
      ],
      "metadata": {
        "colab": {
          "base_uri": "https://localhost:8080/"
        },
        "id": "5kvfMPDRPlAn",
        "outputId": "002b42a7-9b3e-45dc-d7cd-9d7ac43a3708"
      },
      "execution_count": null,
      "outputs": [
        {
          "output_type": "stream",
          "name": "stdout",
          "text": [
            "\n",
            "You can print the type of anything\n",
            "Type of b: <class 'numpy.ndarray'>, type of b[0]: <class 'numpy.int64'>\n"
          ]
        }
      ]
    },
    {
      "cell_type": "code",
      "source": [
        "print(\"\\nUse numpy to creat a [3,3] dimension array with random number\")\n",
        "c = np.random.rand(3,3)\n",
        "print(c)"
      ],
      "metadata": {
        "colab": {
          "base_uri": "https://localhost:8080/"
        },
        "id": "dC5KVOjqQTJX",
        "outputId": "bf3e9094-9bd6-4aa7-a085-c4514aa3942d"
      },
      "execution_count": null,
      "outputs": [
        {
          "output_type": "stream",
          "name": "stdout",
          "text": [
            "\n",
            "Use numpy to creat a [3,3] dimension array with random number\n",
            "[[0.95918672 0.63061605 0.26275055]\n",
            " [0.08262155 0.68656763 0.28877738]\n",
            " [0.66221207 0.99821498 0.8616928 ]]\n"
          ]
        }
      ]
    },
    {
      "cell_type": "code",
      "source": [
        "print(\"\\nShowing some basic math on arrays\")\n",
        "b = np.array([0,1,4,3,2])\n",
        "print(\"Max: {}\".format(np.max(b)))\n",
        "print(\"Average: {}\".format(np.average(b)))\n",
        "print(\"Max index: {}\".format(np.argmax(b)))"
      ],
      "metadata": {
        "colab": {
          "base_uri": "https://localhost:8080/"
        },
        "id": "D8tHNgz4Q4AP",
        "outputId": "498633fb-c4a3-40dc-e69e-4979f5af5924"
      },
      "execution_count": null,
      "outputs": [
        {
          "output_type": "stream",
          "name": "stdout",
          "text": [
            "\n",
            "Showing some basic math on arrays\n",
            "Max: 4\n",
            "Average: 2.0\n",
            "Max index: 2\n"
          ]
        }
      ]
    },
    {
      "cell_type": "code",
      "source": [
        "print(\"\\nYou can print the dimension of arrays\")\n",
        "print(\"Shape of a: {}\".format(a.shape))\n",
        "print(\"Shape of b: {}\".format(b.shape))\n",
        "print(\"Shape of c: {}\".format(c.shape))\n"
      ],
      "metadata": {
        "colab": {
          "base_uri": "https://localhost:8080/"
        },
        "id": "5eSv9g5kSSD5",
        "outputId": "3f4690ec-5c1c-4e4f-d12e-55daf0c5bc2c"
      },
      "execution_count": null,
      "outputs": [
        {
          "output_type": "stream",
          "name": "stdout",
          "text": [
            "\n",
            "You can print the dimension of arrays\n",
            "Shape of a: (3,)\n",
            "Shape of b: (5,)\n",
            "Shape of c: (3, 3)\n"
          ]
        }
      ]
    },
    {
      "cell_type": "markdown",
      "source": [
        "# Colab Specifics: to run commands at the VM's terminal,prefix the line with an exclamation point(!)"
      ],
      "metadata": {
        "id": "u5gBqDZXZNMA"
      }
    },
    {
      "cell_type": "code",
      "source": [
        "print(\"\\nDoing $ls on filesystem\")\n",
        "!ls -l\n",
        "!pwd"
      ],
      "metadata": {
        "colab": {
          "base_uri": "https://localhost:8080/"
        },
        "id": "eAJ3fh0mSvyW",
        "outputId": "2952855e-5993-4f6b-db82-f613080a2f76"
      },
      "execution_count": 4,
      "outputs": [
        {
          "output_type": "stream",
          "name": "stdout",
          "text": [
            "\n",
            "Doing $ls on filesystem\n",
            "total 4\n",
            "drwxr-xr-x 1 root root 4096 Jul 11 13:22 sample_data\n",
            "/content\n"
          ]
        }
      ]
    },
    {
      "cell_type": "code",
      "source": [
        "print(\"Install numpy\")\n",
        "!pip install numpy"
      ],
      "metadata": {
        "colab": {
          "base_uri": "https://localhost:8080/"
        },
        "id": "wuNaiWg3TI2l",
        "outputId": "dacffd8f-d777-402f-c90c-7faed76f3292"
      },
      "execution_count": null,
      "outputs": [
        {
          "output_type": "stream",
          "name": "stdout",
          "text": [
            "Install numpy\n",
            "Requirement already satisfied: numpy in /usr/local/lib/python3.10/dist-packages (1.25.2)\n"
          ]
        }
      ]
    },
    {
      "cell_type": "markdown",
      "source": [
        "# Exercise\n",
        "1. Colab: Create a code cell underneath this text cell and add code to:\n",
        "- List the path of the current directory (pwd)\n",
        "- Go to / (cd) and list the content (ls-l)"
      ],
      "metadata": {
        "id": "6CXLJsBsaJKf"
      }
    },
    {
      "cell_type": "code",
      "source": [
        "\n",
        "!pwd\n",
        "!cd / && ls -l\n"
      ],
      "metadata": {
        "colab": {
          "base_uri": "https://localhost:8080/"
        },
        "id": "MbJb6gvwTa5v",
        "outputId": "48ef252a-fdeb-4e54-abac-e41a6cb3a32a"
      },
      "execution_count": null,
      "outputs": [
        {
          "output_type": "stream",
          "name": "stdout",
          "text": [
            "/content\n",
            "total 104\n",
            "lrwxrwxrwx   1 root root     7 Oct  4  2023 bin -> usr/bin\n",
            "drwxr-xr-x   2 root root  4096 Apr 18  2022 boot\n",
            "drwxr-xr-x   1 root root  4096 Jul  8 19:48 content\n",
            "-rw-r--r--   1 root root  4332 Nov 10  2023 cuda-keyring_1.0-1_all.deb\n",
            "drwxr-xr-x   1 root root  4096 Jul  8 20:05 datalab\n",
            "drwxr-xr-x   6 root root   460 Jul 10 14:50 dev\n",
            "drwxr-xr-x   1 root root  4096 Jul 10 14:50 etc\n",
            "drwxr-xr-x   2 root root  4096 Apr 18  2022 home\n",
            "drwxr-xr-x   3 root root  4096 Jul 10 14:50 kaggle\n",
            "lrwxrwxrwx   1 root root     7 Oct  4  2023 lib -> usr/lib\n",
            "lrwxrwxrwx   1 root root     9 Oct  4  2023 lib32 -> usr/lib32\n",
            "lrwxrwxrwx   1 root root     9 Oct  4  2023 lib64 -> usr/lib64\n",
            "lrwxrwxrwx   1 root root    10 Oct  4  2023 libx32 -> usr/libx32\n",
            "drwxr-xr-x   2 root root  4096 Oct  4  2023 media\n",
            "drwxr-xr-x   2 root root  4096 Oct  4  2023 mnt\n",
            "-rw-r--r--   1 root root 17294 Nov 10  2023 NGC-DL-CONTAINER-LICENSE\n",
            "drwxr-xr-x   1 root root  4096 Jul 10 14:50 opt\n",
            "dr-xr-xr-x 201 root root     0 Jul 10 14:50 proc\n",
            "drwx------   1 root root  4096 Jul 10 14:50 root\n",
            "drwxr-xr-x   1 root root  4096 Jul  8 19:42 run\n",
            "lrwxrwxrwx   1 root root     8 Oct  4  2023 sbin -> usr/sbin\n",
            "drwxr-xr-x   2 root root  4096 Oct  4  2023 srv\n",
            "dr-xr-xr-x  13 root root     0 Jul 10 14:50 sys\n",
            "drwxrwxrwt   1 root root  4096 Jul 10 15:40 tmp\n",
            "drwxr-xr-x   1 root root  4096 Jul  8 20:05 tools\n",
            "drwxr-xr-x   1 root root  4096 Jul 10 14:50 usr\n",
            "drwxr-xr-x   1 root root  4096 Jul  8 20:06 var\n"
          ]
        }
      ]
    },
    {
      "cell_type": "markdown",
      "source": [
        "# 2. Python lists without Numpy: Print the second item in the fruits list: fruits = [\"apple\", \"banana\", \"cherry\"]"
      ],
      "metadata": {
        "id": "pe5NISzWaTTL"
      }
    },
    {
      "cell_type": "code",
      "source": [
        "fruits = [\"apple\", \"banana\", \"cherry\"]\n",
        "print(fruits[1])\n"
      ],
      "metadata": {
        "colab": {
          "base_uri": "https://localhost:8080/"
        },
        "id": "RxAF4mzcVrhC",
        "outputId": "969575ca-2005-453a-8903-3b9303cd63f7"
      },
      "execution_count": 5,
      "outputs": [
        {
          "output_type": "stream",
          "name": "stdout",
          "text": [
            "banana\n"
          ]
        }
      ]
    },
    {
      "cell_type": "markdown",
      "source": [
        "# 3. Change the value from “apple” to “kiwi”, in the fruits list:"
      ],
      "metadata": {
        "id": "ODJ2uWyOanMg"
      }
    },
    {
      "cell_type": "code",
      "source": [
        "fruits = [\"apple\", \"banana\", \"cherry\"]\n",
        "fruits[0] = \"kiwi\"\n",
        "print(fruits)\n"
      ],
      "metadata": {
        "colab": {
          "base_uri": "https://localhost:8080/"
        },
        "id": "Tkorxn7yV8g2",
        "outputId": "9ba62bda-c79e-426b-948f-ea09d991f931"
      },
      "execution_count": null,
      "outputs": [
        {
          "output_type": "stream",
          "name": "stdout",
          "text": [
            "['kiwi', 'banana', 'cherry']\n"
          ]
        }
      ]
    },
    {
      "cell_type": "markdown",
      "source": [
        "# 4. Use the append method to add “orange” to the fruits list:"
      ],
      "metadata": {
        "id": "ej1huETLarmb"
      }
    },
    {
      "cell_type": "code",
      "source": [
        "fruits = [\"kiwi\", \"banana\", \"cherry\"]\n",
        "fruits.append(\"orange\")\n",
        "print(fruits)\n"
      ],
      "metadata": {
        "colab": {
          "base_uri": "https://localhost:8080/"
        },
        "id": "0slgURi9WRTT",
        "outputId": "f99c9baa-47d7-45a9-e26a-9c30e08e2bf2"
      },
      "execution_count": null,
      "outputs": [
        {
          "output_type": "stream",
          "name": "stdout",
          "text": [
            "['kiwi', 'banana', 'cherry', 'orange']\n"
          ]
        }
      ]
    },
    {
      "cell_type": "markdown",
      "source": [
        "# 5. Use the insert method to add “lemon” as the second item in the fruits list:"
      ],
      "metadata": {
        "id": "58WDlUPNaxYP"
      }
    },
    {
      "cell_type": "code",
      "source": [
        "fruits = [\"kiwi\", \"banana\", \"cherry\"]\n",
        "fruits.insert(1, \"lemon\")\n",
        "print(fruits)\n"
      ],
      "metadata": {
        "colab": {
          "base_uri": "https://localhost:8080/"
        },
        "id": "ZOb3K-yfWcxq",
        "outputId": "01826781-a5fa-4042-bfea-176b1c69f965"
      },
      "execution_count": null,
      "outputs": [
        {
          "output_type": "stream",
          "name": "stdout",
          "text": [
            "['kiwi', 'lemon', 'banana', 'cherry']\n"
          ]
        }
      ]
    },
    {
      "cell_type": "markdown",
      "source": [
        "# 6. Use the remove method to delete “banana” from the fruits list:"
      ],
      "metadata": {
        "id": "3TungF9ja22Z"
      }
    },
    {
      "cell_type": "code",
      "source": [
        "fruits = [\"kiwi\", \"lemon\", \"banana\", \"cherry\"]\n",
        "fruits.remove(\"banana\")\n",
        "print(fruits)\n"
      ],
      "metadata": {
        "colab": {
          "base_uri": "https://localhost:8080/"
        },
        "id": "Sf8YXSwsXUcV",
        "outputId": "305ad0b5-d761-4448-d47c-cc6f9130252f"
      },
      "execution_count": null,
      "outputs": [
        {
          "output_type": "stream",
          "name": "stdout",
          "text": [
            "['kiwi', 'lemon', 'cherry']\n"
          ]
        }
      ]
    },
    {
      "cell_type": "markdown",
      "source": [
        "# 7. Python If...Else: Print “Hello World” if a is greater than b:\n",
        "a = 50   c = 20\n",
        "b = 10   d = 20"
      ],
      "metadata": {
        "id": "4WEtouoVa78e"
      }
    },
    {
      "cell_type": "code",
      "source": [
        "a = 50\n",
        "b = 10\n",
        "if a > b:\n",
        "    print(\"Hello World\")\n",
        "elif a != b:\n",
        "    print(\"Hello World\")\n"
      ],
      "metadata": {
        "colab": {
          "base_uri": "https://localhost:8080/"
        },
        "id": "Dsvu5ESHY57L",
        "outputId": "ae012092-54dc-4def-a4de-53c5b6408e2e"
      },
      "execution_count": 14,
      "outputs": [
        {
          "output_type": "stream",
          "name": "stdout",
          "text": [
            "Hello World\n"
          ]
        }
      ]
    },
    {
      "cell_type": "markdown",
      "source": [
        "# 8. Print “Hello World” if a is not equal to b:"
      ],
      "metadata": {
        "id": "ILz2sbbmbMBm"
      }
    },
    {
      "cell_type": "code",
      "source": [
        "if a != b:\n",
        "    print(\"Hello World\")\n"
      ],
      "metadata": {
        "colab": {
          "base_uri": "https://localhost:8080/"
        },
        "id": "ds-EMt5ZY7Ff",
        "outputId": "32a06b32-71b4-4d3d-f7f5-592b4c89aeec"
      },
      "execution_count": 15,
      "outputs": [
        {
          "output_type": "stream",
          "name": "stdout",
          "text": [
            "Hello World\n"
          ]
        }
      ]
    },
    {
      "cell_type": "markdown",
      "source": [
        "# 9. Print “Yes” if a is equal to b, otherwise print “No”:"
      ],
      "metadata": {
        "id": "Z7Y6rVmlbRsw"
      }
    },
    {
      "cell_type": "code",
      "source": [
        "if a == b:\n",
        "    print(\"Yes\")\n",
        "else:\n",
        "    print(\"No\")\n"
      ],
      "metadata": {
        "colab": {
          "base_uri": "https://localhost:8080/"
        },
        "id": "CM-1AbCwaEmY",
        "outputId": "4d02e78c-de8f-4908-9a45-a3f931fc47cb"
      },
      "execution_count": 16,
      "outputs": [
        {
          "output_type": "stream",
          "name": "stdout",
          "text": [
            "No\n"
          ]
        }
      ]
    },
    {
      "cell_type": "markdown",
      "source": [
        "# 10. Print “1” if a is equal to b, print “2” if a is greater than b, otherwise print “3”:"
      ],
      "metadata": {
        "id": "6vy55tyDbXfc"
      }
    },
    {
      "cell_type": "code",
      "source": [
        "if a == b:\n",
        "    print(\"1\")\n",
        "elif a > b:\n",
        "    print(\"2\")\n",
        "else:\n",
        "    print(\"3\")\n"
      ],
      "metadata": {
        "colab": {
          "base_uri": "https://localhost:8080/"
        },
        "id": "gBu6Kx61aYlw",
        "outputId": "58c7629f-ff01-4b2c-97bc-a4dcb70a4ca0"
      },
      "execution_count": 17,
      "outputs": [
        {
          "output_type": "stream",
          "name": "stdout",
          "text": [
            "2\n"
          ]
        }
      ]
    },
    {
      "cell_type": "markdown",
      "source": [
        "# 11. Print “Hello” if a is equal to b, and c is equal to d:"
      ],
      "metadata": {
        "id": "Z7ksnTl-bd9i"
      }
    },
    {
      "cell_type": "code",
      "source": [
        "c = 20\n",
        "d = 20\n",
        "\n",
        "if a == b and c == d:\n",
        "    print(\"Hello\")\n"
      ],
      "metadata": {
        "id": "psAeGcHmad10"
      },
      "execution_count": 21,
      "outputs": []
    },
    {
      "cell_type": "markdown",
      "source": [
        "# 12. Print “Hello” if either a is equal to b, or c is equal to d:"
      ],
      "metadata": {
        "id": "FbEtKX5Dbkk7"
      }
    },
    {
      "cell_type": "code",
      "source": [
        "if a == b or c == d:\n",
        "    print(\"Hello\")\n"
      ],
      "metadata": {
        "colab": {
          "base_uri": "https://localhost:8080/"
        },
        "id": "jMZz21byam4k",
        "outputId": "dfb5a45f-53e1-46a8-87fc-3d3978d26966"
      },
      "execution_count": null,
      "outputs": [
        {
          "output_type": "stream",
          "name": "stdout",
          "text": [
            "Hello\n"
          ]
        }
      ]
    },
    {
      "cell_type": "markdown",
      "source": [
        "# 13. Python Loops: Print i as long as i is less than 6:"
      ],
      "metadata": {
        "id": "TswVzhl8dCcF"
      }
    },
    {
      "cell_type": "code",
      "source": [
        "i = 0\n",
        "while i < 6:\n",
        "    print(i)\n",
        "    i += 1\n"
      ],
      "metadata": {
        "colab": {
          "base_uri": "https://localhost:8080/"
        },
        "id": "s0kkuhXabB-g",
        "outputId": "14ce4412-e13d-41f0-8573-23ed6ec8aaeb"
      },
      "execution_count": 22,
      "outputs": [
        {
          "output_type": "stream",
          "name": "stdout",
          "text": [
            "0\n",
            "1\n",
            "2\n",
            "3\n",
            "4\n",
            "5\n"
          ]
        }
      ]
    },
    {
      "cell_type": "markdown",
      "source": [
        "# 14. From #13 stop the loop if i is 3:"
      ],
      "metadata": {
        "id": "hY2WlVemdI1H"
      }
    },
    {
      "cell_type": "code",
      "source": [
        "#stop the loop if i is 3:\n",
        "i = 0\n",
        "while i < 6:\n",
        "    if i == 3:\n",
        "        break\n",
        "    print(i)\n",
        "    i += 1\n"
      ],
      "metadata": {
        "colab": {
          "base_uri": "https://localhost:8080/"
        },
        "id": "9kQrnAcNbPwy",
        "outputId": "c929b827-4f1e-4cd6-918b-ffa6834082cd"
      },
      "execution_count": null,
      "outputs": [
        {
          "output_type": "stream",
          "name": "stdout",
          "text": [
            "0\n",
            "1\n",
            "2\n"
          ]
        }
      ]
    },
    {
      "cell_type": "code",
      "source": [],
      "metadata": {
        "id": "Hoffiz2CbdIt"
      },
      "execution_count": null,
      "outputs": []
    }
  ]
}